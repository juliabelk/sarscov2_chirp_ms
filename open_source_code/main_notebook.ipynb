{
 "cells": [
  {
   "cell_type": "code",
   "execution_count": null,
   "metadata": {},
   "outputs": [],
   "source": [
    "suppressMessages({\n",
    "    library(dplyr)\n",
    "    library(data.table)\n",
    "    library(ggplot2)\n",
    "    library(ggrepel)\n",
    "    library(UpSetR)\n",
    "    library(pheatmap)\n",
    "    library(grid)\n",
    "    library(RColorBrewer)\n",
    "    library(viridis)\n",
    "    library(UpSetR)\n",
    "})"
   ]
  },
  {
   "cell_type": "code",
   "execution_count": null,
   "metadata": {},
   "outputs": [],
   "source": [
    "root <- ### FILL THIS IN\n",
    "\n",
    "source(paste0(root,\"crispr_utils.R\"))\n",
    "source(paste0(root,\"chirp_utils.R\"))"
   ]
  },
  {
   "cell_type": "code",
   "execution_count": null,
   "metadata": {},
   "outputs": [],
   "source": [
    "crispr_root <- paste0(root,\"crispr/\")\n",
    "crispr_outputs <- paste0(crispr_root,\"outputs/\")\n",
    "if (!dir.exists(crispr_outputs)) dir.create(crispr_outputs)"
   ]
  },
  {
   "cell_type": "code",
   "execution_count": null,
   "metadata": {},
   "outputs": [],
   "source": [
    "e_counts <- read.delim(paste0(crispr_root,\"exp_counts_table.tsv\"),stringsAsFactors=F)\n",
    "m_counts <- read.delim(paste0(crispr_root,\"mito_counts_table.tsv\"),stringsAsFactors=F)"
   ]
  },
  {
   "cell_type": "code",
   "execution_count": null,
   "metadata": {},
   "outputs": [],
   "source": [
    "sig_t <- 0.001\n",
    "\n",
    "e_all <- normalize_counts(e_counts)\n",
    "e_merged <- guide_zscores(create_condition_list(e_all,merge_reps = T))\n",
    "e_nomerge <- guide_zscores(create_condition_list(e_all,merge_reps = F))\n",
    "e_genes <- gene_zscores(e_merged)\n",
    "\n",
    "ez_genes <- create_zscore_table(e_genes,mb=\"Gene\")\n",
    "\n",
    "m_all <- normalize_counts(m_counts)\n",
    "m_merged <- guide_zscores(create_condition_list(m_all,merge_reps = T))\n",
    "m_nomerge <- guide_zscores(create_condition_list(m_all,merge_reps = F))\n",
    "m_genes <- gene_zscores(m_merged)\n",
    "\n",
    "mz_genes <- create_zscore_table(m_genes,mb=\"Gene\")\n",
    "\n",
    "e_reps_gene_zscore <- create_zscore_table(gene_zscores(e_nomerge),mb = \"Gene\")\n",
    "m_reps_gene_zscore <- create_zscore_table(gene_zscores(m_nomerge),mb = \"Gene\")"
   ]
  },
  {
   "cell_type": "code",
   "execution_count": null,
   "metadata": {},
   "outputs": [],
   "source": [
    "ez <- e_reps_gene_zscore[,which(endsWith(colnames(e_reps_gene_zscore),\"_z\"))]\n",
    "mz <- m_reps_gene_zscore[,which(endsWith(colnames(m_reps_gene_zscore),\"_z\"))]\n",
    "\n",
    "pca_plt(ez,nm=\"exp-pool-reps\",group1=\"virus\",offset=4,corrout = crispr_outputs)\n",
    "pca_plt(mz,nm=\"mito-pool-reps\",group1=\"virus\",offset=4,corrout = crispr_outputs)"
   ]
  },
  {
   "cell_type": "code",
   "execution_count": null,
   "metadata": {},
   "outputs": [],
   "source": [
    "proviral <- list()\n",
    "antiviral <- list()\n",
    "\n",
    "for (v in names(e_genes)) {\n",
    "    e_genes[[v]] <- e_genes[[v]] %>% arrange(z)\n",
    "    antiviral[[v]] <- e_genes[[v]]$Gene[which(e_genes[[v]]$z < 0 & e_genes[[v]]$fdr <= sig_t)]\n",
    "    e_genes[[v]] <- e_genes[[v]] %>% arrange(desc(z))\n",
    "    proviral[[v]] <- e_genes[[v]]$Gene[which(e_genes[[v]]$z > 0 & e_genes[[v]]$fdr <= sig_t)] \n",
    "}\n",
    "\n",
    "for (v in names(m_genes)) {\n",
    "    m_genes[[v]] <- m_genes[[v]] %>% arrange(z)\n",
    "    antiviral[[v]] <- m_genes[[v]]$Gene[which(m_genes[[v]]$z < 0 & m_genes[[v]]$fdr <= sig_t)]\n",
    "    m_genes[[v]] <- m_genes[[v]] %>% arrange(desc(z))\n",
    "    proviral[[v]] <- m_genes[[v]]$Gene[which(m_genes[[v]]$z > 0 & m_genes[[v]]$fdr <= sig_t)] \n",
    "}\n"
   ]
  },
  {
   "cell_type": "code",
   "execution_count": null,
   "metadata": {
    "scrolled": true
   },
   "outputs": [],
   "source": [
    "pv <- \"exp_sars2\"\n",
    "\n",
    "results <- e_genes\n",
    "\n",
    "for (virus in names(results)) {\n",
    "    plt <- crispr_volcano(results[[virus]],virus,c1=antiviral[[pv]],c2=proviral[[pv]],sig_t=sig_t)\n",
    "    print(plt)\n",
    "    ggsave(paste0(crispr_outputs,virus,\"-sars2-colored-001.eps\"),plt)\n",
    "    plt <- crispr_volcano(results[[virus]],virus,sig_t=sig_t)\n",
    "    print(plt)\n",
    "    ggsave(paste0(crispr_outputs,virus,\"-001.eps\"),plt)\n",
    "}"
   ]
  },
  {
   "cell_type": "code",
   "execution_count": null,
   "metadata": {},
   "outputs": [],
   "source": [
    "pv <- \"mito_sars2\"\n",
    "\n",
    "results <- m_genes\n",
    "\n",
    "for (virus in names(results)) {\n",
    "    plt <- crispr_volcano(results[[virus]],virus,c1=antiviral[[pv]],c2=proviral[[pv]],sig_t=sig_t)\n",
    "    print(plt)\n",
    "    ggsave(paste0(crispr_outputs,virus,\"-sars2-colored-001.eps\"),plt)\n",
    "    plt <- crispr_volcano(results[[virus]],virus,sig_t=sig_t)\n",
    "    print(plt)\n",
    "    ggsave(paste0(crispr_outputs,virus,\"-001.eps\"),plt)\n",
    "}"
   ]
  },
  {
   "cell_type": "code",
   "execution_count": null,
   "metadata": {},
   "outputs": [],
   "source": []
  },
  {
   "cell_type": "code",
   "execution_count": null,
   "metadata": {},
   "outputs": [],
   "source": [
    "chirp_root <- paste0(root,\"chirp/\")\n",
    "chirp_outputs <- paste0(chirp_root,\"outputs/\")\n",
    "if (!dir.exists(chirp_outputs)) dir.create(chirp_outputs)"
   ]
  },
  {
   "cell_type": "code",
   "execution_count": null,
   "metadata": {},
   "outputs": [],
   "source": [
    "huh_data_raw <- read.table(paste0(chirp_root,\"200814_ChIRP-All_Log2_Imput.txt\"),\n",
    "                       sep=\"\\t\",header = TRUE,stringsAsFactors=FALSE)\n",
    "huh_data_raw$uniprot <- unlist(lapply(huh_data_raw$Majority.protein.IDs,parse_uniprot))\n",
    "huh_data_raw$species <- unlist(lapply(huh_data_raw$Majority.protein.IDs,parse_species))\n",
    "\n",
    "vero_data_raw <- read.table(paste0(chirp_root,\"Vero_Log2_Imput.txt\"),\n",
    "                       sep=\"\\t\",header = TRUE,stringsAsFactors=FALSE)\n",
    "vero_data_raw$uniprot <- unlist(lapply(vero_data_raw$Majority.protein.IDs,parse_uniprot))\n",
    "vero_data_raw$species <- unlist(lapply(vero_data_raw$Majority.protein.IDs,parse_species))"
   ]
  },
  {
   "cell_type": "code",
   "execution_count": null,
   "metadata": {},
   "outputs": [],
   "source": [
    "covd1 <- c('LFQ.intensity.CoV.D1.1','LFQ.intensity.CoV.D1.2','LFQ.intensity.CoV.D1.3')\n",
    "covd2 <- c('LFQ.intensity.CoV.D2.1','LFQ.intensity.CoV.D2.2','LFQ.intensity.CoV.D2.3')\n",
    "covm  <- c('LFQ.intensity.Mock1','LFQ.intensity.Mock2','LFQ.intensity.Mock3')\n",
    "\n",
    "zika <- c('LFQ.intensity.ZV1','LFQ.intensity.ZV2','LFQ.intensity.ZV3')\n",
    "deng <- c('LFQ.intensity.DV1','LFQ.intensity.DV2','LFQ.intensity.DV3')\n",
    "flaviC <- c('LFQ.intensity.FlaviC1','LFQ.intensity.FlaviC2','LFQ.intensity.FlaviC3')\n",
    "\n",
    "huh_data <- data.frame(\n",
    "    \"huhcov.d1.mean\"=apply(huh_data_raw[,covd1],1,mean),\n",
    "    \"huhcov.d2.mean\"=apply(huh_data_raw[,covd2],1,mean),\n",
    "    \"huhcov.mock.mean\"=apply(huh_data_raw[,covm],1,mean),\n",
    "    \"zika.mean\"=apply(huh_data_raw[,zika],1,mean),\n",
    "    \"deng.mean\"=apply(huh_data_raw[,deng],1,mean),\n",
    "    \"flavic.mean\"=apply(huh_data_raw[,flaviC],1,mean),\n",
    "    \"rv\"=huh_data_raw[,'LFQ.intensity.RV'],\n",
    "    \"rvc\"=huh_data_raw[,'LFQ.intensity.RV_C'],\n",
    "    \"majority.protein\"=huh_data_raw[,\"Majority.protein.IDs\"],\n",
    "    \"uniprot\"=huh_data_raw[,\"uniprot\"],\n",
    "    \"species\"=huh_data_raw[,\"species\"],\n",
    "    stringsAsFactors=FALSE\n",
    ")\n",
    "\n",
    "huh_data[,rfmt(covd1)] <- huh_data_raw[,covd1]\n",
    "huh_data[,rfmt(covd2)] <- huh_data_raw[,covd2]\n",
    "huh_data[,rfmt(covm)] <- huh_data_raw[,covm]\n",
    "huh_data[,rfmt(zika)] <- huh_data_raw[,zika]\n",
    "huh_data[,rfmt(deng)] <- huh_data_raw[,deng]\n",
    "huh_data[,rfmt(flaviC)] <- huh_data_raw[,flaviC]\n",
    "\n",
    "cmock <- c(\"Mock1\",\"Mock2\",\"Mock3\")\n",
    "huh_data[,\"huhcov.d1.enrich.1\"] <- huh_data[,\"CoV.D1.1\"] - apply(huh_data[,cmock],1,mean)\n",
    "huh_data[,\"huhcov.d1.enrich.2\"] <- huh_data[,\"CoV.D1.2\"] - apply(huh_data[,cmock],1,mean)\n",
    "huh_data[,\"huhcov.d1.enrich.3\"] <- huh_data[,\"CoV.D1.3\"] - apply(huh_data[,cmock],1,mean)\n",
    "huh_data[,\"huhcov.d2.enrich.1\"] <- huh_data[,\"CoV.D2.1\"] - apply(huh_data[,cmock],1,mean)\n",
    "huh_data[,\"huhcov.d2.enrich.2\"] <- huh_data[,\"CoV.D2.2\"] - apply(huh_data[,cmock],1,mean)\n",
    "huh_data[,\"huhcov.d2.enrich.3\"] <- huh_data[,\"CoV.D2.3\"] - apply(huh_data[,cmock],1,mean)\n",
    "\n",
    "fmock <- c(\"FlaviC1\",\"FlaviC2\",\"FlaviC3\")\n",
    "huh_data[,\"zika.enrich.1\"] <- huh_data[,\"ZV1\"] - apply(huh_data[,fmock],1,mean)\n",
    "huh_data[,\"zika.enrich.2\"] <- huh_data[,\"ZV2\"] - apply(huh_data[,fmock],1,mean)\n",
    "huh_data[,\"zika.enrich.3\"] <- huh_data[,\"ZV3\"] - apply(huh_data[,fmock],1,mean)\n",
    "huh_data[,\"deng.enrich.1\"] <- huh_data[,\"DV1\"] - apply(huh_data[,fmock],1,mean)\n",
    "huh_data[,\"deng.enrich.2\"] <- huh_data[,\"DV2\"] - apply(huh_data[,fmock],1,mean)\n",
    "huh_data[,\"deng.enrich.3\"] <- huh_data[,\"DV3\"] - apply(huh_data[,fmock],1,mean)\n",
    "\n",
    "huh_data[,\"rv.enrich.1\"] <- huh_data[,\"rv\"] - huh_data[,\"rvc\"]\n",
    "\n",
    "huh_data[,\"huhcov.d2.enrich.mean\"] <- apply(huh_data[,c(\"huhcov.d2.enrich.1\",\n",
    "                                                        \"huhcov.d2.enrich.2\",\"huhcov.d2.enrich.3\")],1,mean)\n",
    "huh_data[,\"huhcov.d1.enrich.mean\"] <- apply(huh_data[,c(\"huhcov.d1.enrich.1\",\n",
    "                                                        \"huhcov.d1.enrich.2\",\"huhcov.d1.enrich.3\")],1,mean)\n",
    "\n",
    "huh_data[,\"zika.enrich.mean\"] <- apply(huh_data[,c(\"zika.enrich.1\",\"zika.enrich.2\",\"zika.enrich.3\")],1,mean)\n",
    "huh_data[,\"deng.enrich.mean\"] <- apply(huh_data[,c(\"deng.enrich.1\",\"deng.enrich.2\",\"deng.enrich.3\")],1,mean)"
   ]
  },
  {
   "cell_type": "code",
   "execution_count": null,
   "metadata": {},
   "outputs": [],
   "source": [
    "covd1 <- c('LFQ.intensity.V.Day1.1','LFQ.intensity.V.Day1.2','LFQ.intensity.V.Day1.3')\n",
    "covd2 <- c('LFQ.intensity.V.Day2.1','LFQ.intensity.V.Day2.2','LFQ.intensity.V.Day2.3')\n",
    "covm  <- c('LFQ.intensity.V.Mock1','LFQ.intensity.V.Mock2','LFQ.intensity.V.Mock3')\n",
    "\n",
    "vero_data <- data.frame(\n",
    "    \"verocov.d1.mean\"=apply(vero_data_raw[,covd1],1,mean),\n",
    "    \"verocov.d2.mean\"=apply(vero_data_raw[,covd2],1,mean),\n",
    "    \"verocov.mock.mean\"=apply(vero_data_raw[,covm],1,mean),\n",
    "    \"uniprot\"=vero_data_raw[,\"uniprot\"],\n",
    "    \"majority.protein\"=vero_data_raw[,\"Majority.protein.IDs\"],\n",
    "    \"species\"=vero_data_raw[,\"species\"],\n",
    "    stringsAsFactors=FALSE\n",
    ")\n",
    "\n",
    "vero_data[,rfmt(covd1)] <- vero_data_raw[,covd1]\n",
    "vero_data[,rfmt(covd2)] <- vero_data_raw[,covd2]\n",
    "vero_data[,rfmt(covm)] <- vero_data_raw[,covm]\n",
    "\n",
    "vmock <- c(\"V.Mock1\",\"V.Mock2\",\"V.Mock3\")\n",
    "vero_data[,\"vero.d1.enrich.1\"] <- vero_data[,\"V.Day1.1\"] - apply(vero_data[,vmock],1,mean)\n",
    "vero_data[,\"vero.d1.enrich.2\"] <- vero_data[,\"V.Day1.2\"] - apply(vero_data[,vmock],1,mean)\n",
    "vero_data[,\"vero.d1.enrich.3\"] <- vero_data[,\"V.Day1.3\"] - apply(vero_data[,vmock],1,mean)\n",
    "vero_data[,\"vero.d2.enrich.1\"] <- vero_data[,\"V.Day2.1\"] - apply(vero_data[,vmock],1,mean)\n",
    "vero_data[,\"vero.d2.enrich.2\"] <- vero_data[,\"V.Day2.2\"] - apply(vero_data[,vmock],1,mean)\n",
    "vero_data[,\"vero.d2.enrich.3\"] <- vero_data[,\"V.Day2.3\"] - apply(vero_data[,vmock],1,mean)\n",
    "\n",
    "vero_data[,\"vero.d2.enrich.mean\"] <- apply(vero_data[,c(\"vero.d2.enrich.1\",\n",
    "                                                        \"vero.d2.enrich.2\",\"vero.d2.enrich.3\")],1,mean)\n",
    "vero_data[,\"vero.d1.enrich.mean\"] <- apply(vero_data[,c(\"vero.d1.enrich.1\",\n",
    "                                                        \"vero.d1.enrich.2\",\"vero.d1.enrich.3\")],1,mean)"
   ]
  },
  {
   "cell_type": "code",
   "execution_count": null,
   "metadata": {},
   "outputs": [],
   "source": [
    "\n",
    "gene_uniprot_lookup <- read.delim(paste0(chirp_root,\"uniprot_human_lookup.tsv\"),stringsAsFactors=F)\n",
    "vero_lookup <- read.delim(paste0(chirp_root,\"uniprot_monkey_lookup.tsv\"),stringsAsFactors=F)\n",
    "\n",
    "huh_data$gene <- unlist(lapply(huh_data$uniprot,function(x){\n",
    "    if (!endsWith(x,\"HUMAN\") & !endsWith(x,\"CHLSB\")) return(x)\n",
    "    lk <- gene_uniprot_lookup[\n",
    "        which(gene_uniprot_lookup$Entry.name == x)[1],\n",
    "        \"Gene.names\"\n",
    "    ]\n",
    "    if (lk == \"\") return(x)\n",
    "    return(lk)\n",
    "}))\n",
    "huh_data$gene1 <- unlist(lapply(huh_data$gene,function(x){\n",
    "    strsplit(x,\" \")[[1]][1]\n",
    "}))\n",
    "huh_data$name <- make.unique(huh_data$gene1)\n",
    "vero_data$gene <- unlist(lapply(vero_data$uniprot,function(x){\n",
    "    if (!endsWith(x,\"HUMAN\") & !endsWith(x,\"CHLSB\")) return(x)\n",
    "    lk <- vero_lookup[\n",
    "        which(vero_lookup$Entry.name == x)[1],\n",
    "        \"Gene.names\"\n",
    "    ]\n",
    "    if (lk == \"\") return(x)\n",
    "    return(lk)\n",
    "}))\n",
    "vero_data$gene1 <- unlist(lapply(vero_data$gene,function(x){\n",
    "    strsplit(x,\" \")[[1]][1]\n",
    "}))\n",
    "vero_data$name <- make.unique(vero_data$gene1)"
   ]
  },
  {
   "cell_type": "code",
   "execution_count": null,
   "metadata": {},
   "outputs": [],
   "source": [
    "sel_cols <- function(df) {\n",
    "    sel <- colnames(df)\n",
    "    sel <- sel[grep(\"enrich\",sel)]\n",
    "    return(sel[which(!endsWith(sel,\"mean\"))])\n",
    "}\n",
    "\n",
    "pca_plt(huh_data,sel_cols(huh_data),nm = \"huh-chirp\",offset=2,corrout = chirp_outputs)\n",
    "pca_plt(vero_data,sel_cols(vero_data),nm = \"vero-chirp\",offset=2,corrout = chirp_outputs)"
   ]
  },
  {
   "cell_type": "code",
   "execution_count": null,
   "metadata": {},
   "outputs": [],
   "source": [
    "everything <- merge(\n",
    "    huh_data, vero_data,\n",
    "    by.x = \"name\", by.y = \"name\", all.x=T, all.y=T\n",
    ")\n",
    "\n",
    "everything$huhd1_expanded <- everything$huhcov.d1.enrich.mean >= 1 & everything$species.x == \"HUMAN\"\n",
    "everything$huhd2_expanded <- everything$huhcov.d2.enrich.mean >= 1 & everything$species.x == \"HUMAN\"\n",
    "everything$verod1_expanded <- everything$vero.d1.enrich.mean >= 1 & everything$species.y == \"CHLSB\"\n",
    "everything$verod2_expanded <- everything$vero.d2.enrich.mean >= 1 & everything$species.y == \"CHLSB\"\n",
    "\n",
    "everything$huh_expanded <- everything$huhd1_expanded | everything$huhd2_expanded\n",
    "everything$vero_expanded <- everything$verod1_expanded | everything$verod2_expanded\n",
    "everything$sars_expanded <- everything$huh_expanded | everything$vero_expanded\n",
    "\n",
    "everything$zika_expanded <- everything$zika.enrich.mean >= 1 & everything$species.x == \"HUMAN\"\n",
    "everything$deng_expanded <- everything$deng.enrich.mean >= 1 & everything$species.x == \"HUMAN\"\n",
    "everything$rv_expanded   <- everything$rv.enrich.1 >= 1 & everything$species.x == \"HUMAN\""
   ]
  },
  {
   "cell_type": "code",
   "execution_count": null,
   "metadata": {},
   "outputs": [],
   "source": [
    "plt <- upset(\n",
    "    fromList(list(\n",
    "        #huhd1 = everything[which(everything$huhd1_expanded == T),\"name\"],\n",
    "        huhd2 = everything[which(everything$huhd2_expanded == T),\"name\"],\n",
    "        zika = everything[which(everything$zika_expanded == T),\"name\"],\n",
    "        deng = everything[which(everything$deng_expanded == T),\"name\"],\n",
    "        rv = everything[which(everything$rv_expanded == T),\"name\"]\n",
    "    )), sets=rev(c(\"huhd2\",\"zika\",\"deng\",\"rv\")),\n",
    "    order.by = \"freq\",\n",
    "    point.size = 3.5, line.size = 2,text.scale=2,\n",
    "    keep.order = TRUE\n",
    ") \n",
    "\n",
    "plt"
   ]
  },
  {
   "cell_type": "code",
   "execution_count": null,
   "metadata": {},
   "outputs": [],
   "source": [
    "\n",
    "sarsfasta <- c(\n",
    "    \"SARS-leaderProtein\",\n",
    "    \"SARS-nsp2\",\n",
    "    \"SARS-nsp3\",\n",
    "    \"SARS-nsp4\",\n",
    "    \"SARS-3CLikeProteinase\",\n",
    "    \"SARS-nsp6\",\n",
    "    \"SARS-nsp7\",\n",
    "    \"SARS-nsp8\",\n",
    "    \"SARS-nsp9\",\n",
    "    \"SARS-nsp10\",\n",
    "    \"SARS-RdRp\",\n",
    "    \"SARS-helicase\",\n",
    "    \"SARS-35exonuclease\",\n",
    "    \"SARS-endoRNAse\",\n",
    "    \"SARS-2'O-riboseMethyltransferase\",\n",
    "    \"SARS-SurfaceGlycoProtein\",\n",
    "    \"SARS-ORRF3a\",\n",
    "    \"SARS-Env\",\n",
    "    \"SARS-MemGlycoProtein\",\n",
    "    \"SARS-ORF6\",\n",
    "    \"SARS-ORF7aYP009724395\",\n",
    "    \"SARS-ORF7b\",\n",
    "    \"SARS-ORF8\",\n",
    "    \"SARS-NucleocapsidPhosPro\",\n",
    "    \"SARS-ORF10\"\n",
    ")\n",
    "\n",
    "make_bar_plot(everything,sw=\"viral_proteins\",genelist = sarsfasta,fixord=T)\n",
    "make_gene_set_heatmap(everything,sw=\"sars\",colsel=\"allaverages\",glist=sarsfasta,fixord=T,rmempty=F)"
   ]
  },
  {
   "cell_type": "code",
   "execution_count": null,
   "metadata": {},
   "outputs": [],
   "source": []
  },
  {
   "cell_type": "code",
   "execution_count": null,
   "metadata": {},
   "outputs": [],
   "source": []
  },
  {
   "cell_type": "code",
   "execution_count": null,
   "metadata": {},
   "outputs": [],
   "source": []
  },
  {
   "cell_type": "code",
   "execution_count": null,
   "metadata": {},
   "outputs": [],
   "source": []
  },
  {
   "cell_type": "code",
   "execution_count": null,
   "metadata": {},
   "outputs": [],
   "source": []
  },
  {
   "cell_type": "code",
   "execution_count": null,
   "metadata": {},
   "outputs": [],
   "source": []
  }
 ],
 "metadata": {
  "kernelspec": {
   "display_name": "R",
   "language": "R",
   "name": "ir"
  },
  "language_info": {
   "codemirror_mode": "r",
   "file_extension": ".r",
   "mimetype": "text/x-r-source",
   "name": "R",
   "pygments_lexer": "r",
   "version": "3.6.1"
  }
 },
 "nbformat": 4,
 "nbformat_minor": 2
}
